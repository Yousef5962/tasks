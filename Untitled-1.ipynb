{
 "cells": [
  {
   "cell_type": "code",
   "execution_count": 20,
   "metadata": {},
   "outputs": [],
   "source": [
    "import pandas as pd\n",
    "import matplotlib.pyplot as plt\n",
    "import seaborn as sns\n",
    "from sklearn.model_selection import train_test_split\n",
    "from sklearn.ensemble import RandomForestClassifier , GradientBoostingRegressor , AdaBoostRegressor \n",
    "from sklearn.linear_model import LinearRegression\n",
    "from sklearn.preprocessing import StandardScaler\n",
    "from sklearn.neighbors import KNeighborsRegressor\n",
    "from sklearn.tree import DecisionTreeRegressor\n",
    "from sklearn.metrics import accuracy_score, classification_report,mean_squared_error , r2_score\n",
    "from tabulate import tabulate"
   ]
  },
  {
   "cell_type": "code",
   "execution_count": 21,
   "metadata": {},
   "outputs": [],
   "source": [
    "#load the dataset\n",
    "file_path = 'C:/Users/yalaa/OneDrive/Desktop/New folder (5)/Weather_Dataset.csv'\n",
    "data = pd.read_csv(file_path)\n",
    "\n",
    "X = data.drop('Summary', axis=1)\n",
    "y = data['Summary']"
   ]
  },
  {
   "cell_type": "code",
   "execution_count": 28,
   "metadata": {},
   "outputs": [],
   "source": [
    "X_numerical = X.select_dtypes(include=[float, int])\n",
    "X_numerical.fillna(X_numerical.mean(), inplace=True)\n",
    "model = RandomForestClassifier(n_estimators=100, random_state=42)\n",
    "model.fit(X_train, y_train)\n",
    "scaler = StandardScaler()\n",
    "X_scaled = scaler.fit_transform(X_numerical)\n",
    "X_train, X_test, y_train, y_test = train_test_split(X_scaled, y, test_size=0.2, random_state=42)"
   ]
  },
  {
   "cell_type": "code",
   "execution_count": 29,
   "metadata": {},
   "outputs": [
    {
     "name": "stdout",
     "output_type": "stream",
     "text": [
      "Accuracy: 0.84\n",
      "                          precision    recall  f1-score   support\n",
      "\n",
      "Breezy and Mostly Cloudy       1.00      1.00      1.00         1\n",
      "                   Clear       0.86      0.78      0.82        90\n",
      "                   Foggy       1.00      1.00      1.00       125\n",
      " Humid and Mostly Cloudy       1.00      1.00      1.00         1\n",
      "           Mostly Cloudy       0.81      0.75      0.78       213\n",
      "                Overcast       0.90      0.85      0.88       130\n",
      "           Partly Cloudy       0.75      0.87      0.80       196\n",
      "\n",
      "                accuracy                           0.84       756\n",
      "               macro avg       0.90      0.89      0.90       756\n",
      "            weighted avg       0.85      0.84      0.84       756\n",
      "\n"
     ]
    }
   ],
   "source": [
    "y_pred = model.predict(X_test)\n",
    "\n",
    "# Evaluate the model\n",
    "accuracy = accuracy_score(y_test, y_pred)\n",
    "print(f'Accuracy: {accuracy:.2f}')\n",
    "print(classification_report(y_test, y_pred))"
   ]
  }
 ],
 "metadata": {
  "kernelspec": {
   "display_name": "Python 3",
   "language": "python",
   "name": "python3"
  },
  "language_info": {
   "codemirror_mode": {
    "name": "ipython",
    "version": 3
   },
   "file_extension": ".py",
   "mimetype": "text/x-python",
   "name": "python",
   "nbconvert_exporter": "python",
   "pygments_lexer": "ipython3",
   "version": "3.12.4"
  }
 },
 "nbformat": 4,
 "nbformat_minor": 2
}
